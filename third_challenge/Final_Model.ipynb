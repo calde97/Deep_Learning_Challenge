{
  "nbformat": 4,
  "nbformat_minor": 0,
  "metadata": {
    "accelerator": "GPU",
    "colab": {
      "name": "Final_Model",
      "provenance": [],
      "collapsed_sections": [
        "z9Qp3xuIqCvV",
        "mMDviq3Ua55h",
        "H3O6Se8DGq3c",
        "8NYFB5NEK4W3",
        "tUetU3GQF2YC"
      ],
      "toc_visible": true,
      "include_colab_link": true
    },
    "kernelspec": {
      "display_name": "Python 3",
      "name": "python3"
    }
  },
  "cells": [
    {
      "cell_type": "markdown",
      "metadata": {
        "id": "view-in-github",
        "colab_type": "text"
      },
      "source": [
        "<a href=\"https://colab.research.google.com/github/calde97/Deep_Learning_Challenge/blob/main/third_challenge/Final_Model.ipynb\" target=\"_parent\"><img src=\"https://colab.research.google.com/assets/colab-badge.svg\" alt=\"Open In Colab\"/></a>"
      ]
    },
    {
      "cell_type": "code",
      "metadata": {
        "colab": {
          "base_uri": "https://localhost:8080/"
        },
        "id": "I3ipgDX2dCfU",
        "outputId": "f0a3cfc2-d832-478f-f6c9-30fa5923a34b"
      },
      "source": [
        "import numpy as np\n",
        "import tensorflow as tf\n",
        "import matplotlib.pyplot as plt\n",
        "from google.colab import drive \n",
        "import os\n",
        "import json\n",
        "drive.mount('/content/drive')\n",
        "%cd /content/drive/MyDrive/challenge3/"
      ],
      "execution_count": null,
      "outputs": [
        {
          "output_type": "stream",
          "text": [
            "Mounted at /content/drive\n",
            "/content/drive/MyDrive/challenge3\n"
          ],
          "name": "stdout"
        }
      ]
    },
    {
      "cell_type": "code",
      "metadata": {
        "id": "25-48Yh16Jp4"
      },
      "source": [
        "!unzip /content/drive/MyDrive/anndl-2020-vqa.zip -d /content/\n",
        "#After downloading the data in /content, we return to the right folder for the entire process\n",
        "%cd /content/drive/MyDrive/challenge3/"
      ],
      "execution_count": null,
      "outputs": []
    },
    {
      "cell_type": "markdown",
      "metadata": {
        "id": "BnYFeve0B93g"
      },
      "source": [
        "The files will be on /content"
      ]
    },
    {
      "cell_type": "markdown",
      "metadata": {
        "id": "GiVyg7Q8EBoS"
      },
      "source": [
        "# Dataset Creation\n",
        "\n",
        "Folder structure in Drive\n",
        "\n",
        "    -challenge3/DS/ \n",
        "                 - VQA_Dataset/\n",
        "                     - test_questions.json\n",
        "                     - train_questions_annotations.json    \n",
        "    - ~ \n",
        "      - Images/\n",
        "          -0.png,...,n.png\n",
        "\n",
        "\n",
        "\n",
        "\n",
        "\n"
      ]
    },
    {
      "cell_type": "markdown",
      "metadata": {
        "id": "pDvzDC2idBgA"
      },
      "source": [
        "The images are on Colab root in order to reduce the latency when retrieving the images from drive to the colab ram during the training process."
      ]
    },
    {
      "cell_type": "markdown",
      "metadata": {
        "id": "JTjoUFxCI6O2"
      },
      "source": [
        "## Utils for labels dictionary\n",
        "This is the dict that maps the answers to integers"
      ]
    },
    {
      "cell_type": "code",
      "metadata": {
        "id": "Xv4B4YE11z6L"
      },
      "source": [
        "labels_dict = {\n",
        "        '0': 0,\n",
        "        '1': 1,\n",
        "        '2': 2,\n",
        "        '3': 3,\n",
        "        '4': 4,\n",
        "        '5': 5,\n",
        "        'apple': 6,\n",
        "        'baseball': 7,\n",
        "        'bench': 8,\n",
        "        'bike': 9,\n",
        "        'bird': 10,\n",
        "        'black': 11,\n",
        "        'blanket': 12,\n",
        "        'blue': 13,\n",
        "        'bone': 14,\n",
        "        'book': 15,\n",
        "        'boy': 16,\n",
        "        'brown': 17,\n",
        "        'cat': 18,\n",
        "        'chair': 19,\n",
        "        'couch': 20,\n",
        "        'dog': 21,\n",
        "        'floor': 22,\n",
        "        'food': 23,\n",
        "        'football': 24,\n",
        "        'girl': 25,\n",
        "        'grass': 26,\n",
        "        'gray': 27,\n",
        "        'green': 28,\n",
        "        'left': 29,\n",
        "        'log': 30,\n",
        "        'man': 31,\n",
        "        'monkey bars': 32,\n",
        "        'no': 33,\n",
        "        'nothing': 34,\n",
        "        'orange': 35,\n",
        "        'pie': 36,\n",
        "        'plant': 37,\n",
        "        'playing': 38,\n",
        "        'red': 39,\n",
        "        'right': 40,\n",
        "        'rug': 41,\n",
        "        'sandbox': 42,\n",
        "        'sitting': 43,\n",
        "        'sleeping': 44,\n",
        "        'soccer': 45,\n",
        "        'squirrel': 46,\n",
        "        'standing': 47,\n",
        "        'stool': 48,\n",
        "        'sunny': 49,\n",
        "        'table': 50,\n",
        "        'tree': 51,\n",
        "        'watermelon': 52,\n",
        "        'white': 53,\n",
        "        'wine': 54,\n",
        "        'woman': 55,\n",
        "        'yellow': 56,\n",
        "        'yes': 57\n",
        "}"
      ],
      "execution_count": null,
      "outputs": []
    },
    {
      "cell_type": "markdown",
      "metadata": {
        "id": "z9Qp3xuIqCvV"
      },
      "source": [
        "## Utils for the creation of the DS"
      ]
    },
    {
      "cell_type": "code",
      "metadata": {
        "id": "iBOvDL-a9lr9"
      },
      "source": [
        "'''\n",
        "Args: \n",
        "-The dictionary created by loading the json file.\n",
        "-Dictionary that maps answer string to numbers\n",
        "Return: \n",
        "-3 lists containing the questions, the image names \n",
        "and the encoded answers. \n",
        "'''\n",
        "def get_lists_from_data(training_annotations_map, labels_dict):\n",
        "  ids = []\n",
        "  questions = []\n",
        "  image_names = []\n",
        "  encoded_answers = []\n",
        "\n",
        "  for value in training_annotations_map.values():\n",
        "    questions.append(value['question'])\n",
        "    image_names.append(value['image_id'])\n",
        "    answer = value['answer']\n",
        "    encoded = labels_dict.get(answer)\n",
        "    encoded_answers.append(encoded)\n",
        "\n",
        "  return questions, image_names, encoded_answers\n",
        "\n",
        "#Load the json file\n",
        "def load_json(json_path_name):\n",
        "  with open(json_path_name) as f:\n",
        "    data = json.load(f)\n",
        "  return data\n",
        "\n",
        "#Not used. Could be useful in the future\n",
        "def get_ids(training_annotation_string):\n",
        "  ids = []\n",
        "  for key in training_annotation_string.keys():\n",
        "    ids.append(key)\n",
        "  return ids"
      ],
      "execution_count": null,
      "outputs": []
    },
    {
      "cell_type": "code",
      "metadata": {
        "id": "anIRcQtF3Br5"
      },
      "source": [
        "def one_hot_encoding(index, len):\n",
        "  one_hot = np.zeros(len)\n",
        "  one_hot[index] = 1\n",
        "  return one_hot"
      ],
      "execution_count": null,
      "outputs": []
    },
    {
      "cell_type": "markdown",
      "metadata": {
        "id": "mMDviq3Ua55h"
      },
      "source": [
        "## Utils for Tokenizing the questions\n",
        "The max length of a sentence is 21<br>\n",
        "The unique words are 4640<br>"
      ]
    },
    {
      "cell_type": "code",
      "metadata": {
        "id": "QiGG-9FVlIXH"
      },
      "source": [
        "from tensorflow.keras.preprocessing.text import Tokenizer\n",
        "from tensorflow.keras.preprocessing.sequence import pad_sequences\n",
        "\n",
        "'''\n",
        "We need to create the tokenizer with the whole ds.\n",
        "get_tokenizer_whole_data returns the tokenizer on the whole ds\n",
        "and return the max number of words in all the sentences.\n",
        "'''\n",
        "\n",
        "#It takes all the questions\n",
        "def get_tokenizer_whole_data(questions, max_words=50000):\n",
        "  tokenizer = Tokenizer(num_words=max_words)\n",
        "  tokenizer.fit_on_texts(questions)\n",
        "\n",
        "  tokenized_sentences = tokenizer.texts_to_sequences(questions)\n",
        "  max_length_sentence = max(len(word) for word in tokenized_sentences)\n",
        "\n",
        "  return tokenizer, max_length_sentence\n",
        "\n",
        "'''\n",
        "We tokenize the questions(usually here we have a subset of all the questions). \n",
        "We use the tokenizer created above\n",
        "'''\n",
        "#It can take subset of the questions (for training and validation)\n",
        "def tokenize_input(questions=None, max_length_sentence=None, tokenizer=None):\n",
        "  tokenized_sentences = tokenizer.texts_to_sequences(questions)\n",
        "  text_inputs = pad_sequences(tokenized_sentences, maxlen=max_length_sentence)\n",
        "  return text_inputs"
      ],
      "execution_count": null,
      "outputs": []
    },
    {
      "cell_type": "markdown",
      "metadata": {
        "id": "5qMTnlkaLURu"
      },
      "source": [
        "The reason behind the division of the token process in 2 parts is the following: we need to create the tokenizer with all the sentences. Because we want to have a map for all the words in all sentences. We also want to have the max number of words per each sentence for all the sentences. Just think that you tokenize for a small subset of the questions and by chance you have all the sentences of 3 words. Your max length will be 3 but in the whole DS you have sentences with 21 words. That can cause great problems during training and inference"
      ]
    },
    {
      "cell_type": "markdown",
      "metadata": {
        "id": "H3O6Se8DGq3c"
      },
      "source": [
        "## Creation of the Custom DS"
      ]
    },
    {
      "cell_type": "code",
      "metadata": {
        "id": "R9ACuxXgnG_Q"
      },
      "source": [
        "from PIL import Image\n",
        "from sklearn.model_selection import train_test_split\n",
        "\n",
        "'''\n",
        "It creates the Dataset.\n",
        "\n",
        "Args:\n",
        "data => the data loaded from the json file\n",
        "labels_dict => dictionary of string answers to integers\n",
        "all the others are trivial\n",
        "\n",
        "Returns:\n",
        "(Input Map, target_classes)\n",
        "The images in the input map are numpy tensors of (h, w, 3)\n",
        "The tokenized questions on the input map are vectors of (21,) integers\n",
        "The target classes are one-hot encoded. Vector of (58,) binary integers\n",
        "\n",
        "The input map contains the vector of the images and the vector of the \n",
        "tokenized questions. \n",
        "From a point of view of the model fitting everything should be transparent.\n",
        "'''\n",
        "\n",
        "class CustomDataset(tf.keras.utils.Sequence):\n",
        "\n",
        "  def __init__(self, \n",
        "               data = None,\n",
        "               labels_dict = None, \n",
        "               images_path = None,\n",
        "               subset = 'training', \n",
        "               preprocessing_function=None, \n",
        "               out_shape=[200, 350],\n",
        "               seed=1234,\n",
        "               test_size=0.15):\n",
        "    \n",
        "    self.images_path = images_path\n",
        "    self.subset = subset\n",
        "    self.preprocessing_function = preprocessing_function\n",
        "    self.out_shape = out_shape\n",
        "    self.data = data\n",
        "    self.test_size = test_size\n",
        "   \n",
        "    #Get the questions, images and answers from data\n",
        "    questions, image_names, answers = get_lists_from_data(data, labels_dict)\n",
        "\n",
        "    #We need the tokenizer for the questions. We get also the max length of every sentence\n",
        "    self.tokenizer, self.max_length_sentence = get_tokenizer_whole_data(questions)\n",
        "\n",
        "    #Split in training and validation\n",
        "    train_questions, val_questions = train_test_split(questions, test_size=self.test_size, random_state=seed)\n",
        "    train_image_names, val_image_names = train_test_split(image_names, test_size=self.test_size, random_state=seed)\n",
        "    train_answers, val_answers = train_test_split(answers, test_size=self.test_size, random_state=seed)\n",
        "    \n",
        "    if (subset == 'training'):\n",
        "      self.image_names = train_image_names\n",
        "      self.questions = train_questions\n",
        "      self.answers = train_answers\n",
        "    else:\n",
        "      self.image_names = val_image_names\n",
        "      self.questions = val_questions\n",
        "      self.answers = val_answers\n",
        "\n",
        "    #We tokenize the subset of the questions(training or validation). We used the tokenizer created before with the whole ds\n",
        "    self.tokenized_questions = tokenize_input(questions=self.questions, tokenizer=self.tokenizer, max_length_sentence=self.max_length_sentence)\n",
        "\n",
        "  def __len__(self):\n",
        "    return len(self.questions)\n",
        "\n",
        "  def __getitem__(self, index):\n",
        "  \n",
        "    #Reading image\n",
        "    #We need to convert to RGB since the png has a 4-th transparency channel\n",
        "    image = Image.open(os.path.join(self.images_path, self.image_names[index] + '.png')).convert('RGB')\n",
        "    image = image.resize(self.out_shape)\n",
        "    image_array = np.array(image)\n",
        "\n",
        "    if self.preprocessing_function is not None:\n",
        "        image_array = self.preprocessing_function(image_array)\n",
        "\n",
        "    #Reading the question\n",
        "    question = self.tokenized_questions[index]\n",
        "\n",
        "    #Reading the answer\n",
        "    target = self.answers[index]\n",
        "    encoded_target = one_hot_encoding(target, 58) #58 is the number of answers we have\n",
        "\n",
        "    #The inputs are returned as a map. The output is unique\n",
        "    return {'image':image_array, 'text':question}, encoded_target"
      ],
      "execution_count": null,
      "outputs": []
    },
    {
      "cell_type": "code",
      "metadata": {
        "id": "SKzeGiO_bgzx"
      },
      "source": [
        "def normalize(img):\n",
        "  return img / 255."
      ],
      "execution_count": null,
      "outputs": []
    },
    {
      "cell_type": "markdown",
      "metadata": {
        "id": "PIv4o5MSJXbW"
      },
      "source": [
        "## Lets create the Dataset "
      ]
    },
    {
      "cell_type": "code",
      "metadata": {
        "id": "5MAPUsJLIewz"
      },
      "source": [
        "json_path = '/content/drive/MyDrive/challenge3/VQA_Dataset/train_questions_annotations.json'\n",
        "images_path = '/content/VQA_Dataset/Images'"
      ],
      "execution_count": null,
      "outputs": []
    },
    {
      "cell_type": "code",
      "metadata": {
        "id": "fTal8U1Ryhq0"
      },
      "source": [
        "from tensorflow.keras.applications.mobilenet_v2 import preprocess_input\n",
        "data = load_json(json_path)\n",
        "ds = CustomDataset(data=data, images_path=images_path, labels_dict=labels_dict, subset='training', test_size=0.15, out_shape=[224, 224], preprocessing_function=preprocess_input)"
      ],
      "execution_count": null,
      "outputs": []
    },
    {
      "cell_type": "code",
      "metadata": {
        "id": "uVhaxss4yq2O"
      },
      "source": [
        "bs = 128\n",
        "img_height = 224\n",
        "img_width = 224\n",
        "n_classes = 58\n",
        "train_dataset = tf.data.Dataset.from_generator(lambda: ds,\n",
        "                                               output_types=({'image':tf.float32, 'text':tf.float32}, tf.float32),\n",
        "                                               output_shapes=({'image':[img_height, img_width, 3], 'text':[21,]}, [58,] ))\n",
        " \n",
        "train_dataset = train_dataset.batch(bs)\n",
        " \n",
        "train_dataset = train_dataset.repeat()  "
      ],
      "execution_count": null,
      "outputs": []
    },
    {
      "cell_type": "code",
      "metadata": {
        "id": "_XfeheEt-cyB"
      },
      "source": [
        "ds_val = CustomDataset(data=data, images_path=images_path, labels_dict=labels_dict, subset='validation', test_size=0.15, out_shape=[224, 224], preprocessing_function=preprocess_input)"
      ],
      "execution_count": null,
      "outputs": []
    },
    {
      "cell_type": "code",
      "metadata": {
        "id": "S4y-_Es9-h8S"
      },
      "source": [
        "bs = 128\n",
        "img_height = 224\n",
        "img_width = 224\n",
        "n_classes = 58\n",
        "val_dataset = tf.data.Dataset.from_generator(lambda: ds_val,\n",
        "                                               output_types=({'image':tf.float32, 'text':tf.float32}, tf.float32),\n",
        "                                               output_shapes=({'image':[img_height, img_width, 3], 'text':[21,]}, [58,] ))\n",
        "\n",
        " \n",
        "val_dataset = val_dataset.batch(bs)\n",
        " \n",
        "val_dataset = val_dataset.repeat()  "
      ],
      "execution_count": null,
      "outputs": []
    },
    {
      "cell_type": "markdown",
      "metadata": {
        "id": "HW-imHVETv1z"
      },
      "source": [
        "# Model"
      ]
    },
    {
      "cell_type": "markdown",
      "metadata": {
        "id": "xfeTiO11FrhB"
      },
      "source": [
        "## Model creation "
      ]
    },
    {
      "cell_type": "markdown",
      "metadata": {
        "id": "XR2AD7pFeAxU"
      },
      "source": [
        "We used the MobileNet v2 to get the features of our images. We removed the classifier and added a GAP to reduce the dimensions before the Dense layer. "
      ]
    },
    {
      "cell_type": "code",
      "metadata": {
        "id": "Mg13SgQ7PIP3"
      },
      "source": [
        "from tensorflow.keras.applications import MobileNetV2\n",
        "\n",
        "mobile = MobileNetV2(input_shape=(224, 224, 3), include_top=False, weights='imagenet')\n",
        "mobile.trainable = False\n",
        "input = mobile.input\n",
        "output = mobile.output\n",
        "\n",
        "old = mobile(input, training=False)\n",
        "\n",
        "gap = tf.keras.layers.GlobalAveragePooling2D()(old)\n",
        "dense = tf.keras.layers.Dense(units=256, activation='relu')(gap)\n",
        "\n",
        "mobile = tf.keras.models.Model(input, dense)"
      ],
      "execution_count": null,
      "outputs": []
    },
    {
      "cell_type": "code",
      "metadata": {
        "id": "9VOXoZwgPg0_",
        "colab": {
          "base_uri": "https://localhost:8080/"
        },
        "outputId": "afb9236e-dff4-4392-fb39-2a151871ee2f"
      },
      "source": [
        "mobile.summary()"
      ],
      "execution_count": null,
      "outputs": [
        {
          "output_type": "stream",
          "text": [
            "Model: \"model_15\"\n",
            "_________________________________________________________________\n",
            "Layer (type)                 Output Shape              Param #   \n",
            "=================================================================\n",
            "input_19 (InputLayer)        [(None, 224, 224, 3)]     0         \n",
            "_________________________________________________________________\n",
            "mobilenetv2_1.00_224 (Functi (None, 7, 7, 1280)        2257984   \n",
            "_________________________________________________________________\n",
            "global_average_pooling2d_14  (None, 1280)              0         \n",
            "_________________________________________________________________\n",
            "dense_11 (Dense)             (None, 256)               327936    \n",
            "=================================================================\n",
            "Total params: 2,585,920\n",
            "Trainable params: 327,936\n",
            "Non-trainable params: 2,257,984\n",
            "_________________________________________________________________\n"
          ],
          "name": "stdout"
        }
      ]
    },
    {
      "cell_type": "code",
      "metadata": {
        "id": "TsxcZS0aTyCE"
      },
      "source": [
        "import tensorflow as tf\n",
        " \n",
        "img_h = 224\n",
        "img_w = 224\n",
        "rnn_input_len = 21\n",
        "max_words = 4640\n",
        "EMBEDDING_SIZE = 256\n",
        " \n",
        "# Import Keras \n",
        "from tensorflow.keras.layers import Conv2D, MaxPooling2D, Flatten\n",
        "from tensorflow.keras.layers import Input, LSTM, Embedding, Dense\n",
        "from tensorflow.keras.models import Model, Sequential\n",
        "from tensorflow.keras.utils import plot_model\n",
        "\n",
        " \n",
        "image_input = Input(shape=(img_h, img_w, 3), name='image')\n",
        "encoded_image = mobile(image_input)\n",
        " \n",
        "# Define RNN for language input\n",
        "question_input = Input(shape=(rnn_input_len,), name='text')\n",
        "#Important the +1 to count the 0 \n",
        "embedded_question = Embedding(input_dim=max_words + 1, output_dim=EMBEDDING_SIZE, input_length=rnn_input_len)(question_input)\n",
        "encoded_question = LSTM(EMBEDDING_SIZE,dropout=0.25)(embedded_question)\n",
        "\n",
        "# Combine CNN and RNN to create the final model\n",
        "merged = tf.keras.layers.multiply([encoded_question, encoded_image])\n",
        "hidden = tf.keras.layers.Dense(units=128, activation='relu')(merged)\n",
        "output = Dense(58, activation='softmax')(hidden)\n",
        "vqa_model = Model(inputs=[image_input, question_input], outputs=output)"
      ],
      "execution_count": null,
      "outputs": []
    },
    {
      "cell_type": "code",
      "metadata": {
        "colab": {
          "base_uri": "https://localhost:8080/"
        },
        "id": "bYzzF_LwXrjY",
        "outputId": "c0643cc0-9302-478f-d629-0ec4ecc12875"
      },
      "source": [
        "vqa_model.summary()"
      ],
      "execution_count": null,
      "outputs": [
        {
          "output_type": "stream",
          "text": [
            "Model: \"model_2\"\n",
            "__________________________________________________________________________________________________\n",
            "Layer (type)                    Output Shape         Param #     Connected to                     \n",
            "==================================================================================================\n",
            "text (InputLayer)               [(None, 21)]         0                                            \n",
            "__________________________________________________________________________________________________\n",
            "embedding_1 (Embedding)         (None, 21, 256)      1188096     text[0][0]                       \n",
            "__________________________________________________________________________________________________\n",
            "image (InputLayer)              [(None, 224, 224, 3) 0                                            \n",
            "__________________________________________________________________________________________________\n",
            "lstm_1 (LSTM)                   (None, 256)          525312      embedding_1[0][0]                \n",
            "__________________________________________________________________________________________________\n",
            "model (Functional)              (None, 256)          2585920     image[0][0]                      \n",
            "__________________________________________________________________________________________________\n",
            "multiply_1 (Multiply)           (None, 256)          0           lstm_1[0][0]                     \n",
            "                                                                 model[1][0]                      \n",
            "__________________________________________________________________________________________________\n",
            "dense_3 (Dense)                 (None, 128)          32896       multiply_1[0][0]                 \n",
            "__________________________________________________________________________________________________\n",
            "dense_4 (Dense)                 (None, 58)           7482        dense_3[0][0]                    \n",
            "==================================================================================================\n",
            "Total params: 4,339,706\n",
            "Trainable params: 2,081,722\n",
            "Non-trainable params: 2,257,984\n",
            "__________________________________________________________________________________________________\n"
          ],
          "name": "stdout"
        }
      ]
    },
    {
      "cell_type": "code",
      "metadata": {
        "colab": {
          "base_uri": "https://localhost:8080/",
          "height": 644
        },
        "id": "4GVNuwxdYPFY",
        "outputId": "d2ee6231-944e-4431-9ef0-486954f706d5"
      },
      "source": [
        "plot_model(vqa_model, show_shapes=True)"
      ],
      "execution_count": null,
      "outputs": [
        {
          "output_type": "execute_result",
          "data": {
            "image/png": "[encoded data removed]",
            "text/plain": [
              "<IPython.core.display.Image object>"
            ]
          },
          "metadata": {
            "tags": []
          },
          "execution_count": 55
        }
      ]
    },
    {
      "cell_type": "code",
      "metadata": {
        "id": "VeILSLouY4Oj"
      },
      "source": [
        "loss = tf.keras.losses.CategoricalCrossentropy()\n",
        "metrics = ['accuracy']\n",
        "optimizer = tf.keras.optimizers.Adam(learning_rate=1e-3)\n",
        "vqa_model.compile(optimizer=optimizer, loss=loss, metrics=metrics)"
      ],
      "execution_count": null,
      "outputs": []
    },
    {
      "cell_type": "markdown",
      "metadata": {
        "id": "DaEqerEaUdGe"
      },
      "source": [
        "## Training"
      ]
    },
    {
      "cell_type": "code",
      "metadata": {
        "id": "CNsmDq9-wdQ9"
      },
      "source": [
        "import os\n",
        "from datetime import datetime\n",
        "\n",
        "\n",
        "exps_dir = 'multiplication'\n",
        "if not os.path.exists(exps_dir):\n",
        "    os.makedirs(exps_dir)\n",
        "\n",
        "now = datetime.now().strftime('%b%d_%H-%M-%S')\n",
        "\n",
        "model_name = 'GAP'\n",
        "\n",
        "exp_dir = os.path.join(exps_dir, model_name + '_' + str(now))\n",
        "if not os.path.exists(exp_dir):\n",
        "    os.makedirs(exp_dir)\n",
        "    \n",
        "callbacks = []\n",
        "\n",
        "# Model checkpoint\n",
        "# ----------------\n",
        "ckpt_dir = os.path.join(exp_dir, 'ckpts')\n",
        "if not os.path.exists(ckpt_dir):\n",
        "    os.makedirs(ckpt_dir)\n",
        "\n",
        "ckpt_callback = tf.keras.callbacks.ModelCheckpoint(filepath=os.path.join(ckpt_dir, 'cp_{epoch:02d}.ckpt'), \n",
        "                                                   save_weights_only=True,\n",
        "                                                   save_best_only=True,\n",
        "                                                   monitor='val_accuracy',\n",
        "                                                   mode='max') \n",
        "callbacks.append(ckpt_callback)\n",
        "\n",
        "# Visualize Learning on Tensorboard\n",
        "# ---------------------------------\n",
        "tb_dir = os.path.join(exp_dir, 'tb_logs')\n",
        "if not os.path.exists(tb_dir):\n",
        "    os.makedirs(tb_dir)\n",
        "    \n",
        "# By default shows losses and metrics for both training and validation\n",
        "tb_callback = tf.keras.callbacks.TensorBoard(log_dir=tb_dir,\n",
        "                                             profile_batch=0,\n",
        "                                             histogram_freq=0)  # if 1 shows weights histograms\n",
        "callbacks.append(tb_callback)\n",
        "\n",
        "# Early Stopping\n",
        "# --------------\n",
        "early_stop = True\n",
        "if early_stop:\n",
        "    es_callback = tf.keras.callbacks.EarlyStopping(monitor='val_loss', patience=10)\n",
        "    callbacks.append(es_callback)\n",
        "\n",
        "\n",
        "\n",
        "# How to visualize Tensorboard\n",
        "\n",
        "# 1. tensorboard --logdir EXPERIMENTS_DIR --port PORT     <- from terminal\n",
        "# 2. localhost:PORT   <- in your browser"
      ],
      "execution_count": null,
      "outputs": []
    },
    {
      "cell_type": "markdown",
      "metadata": {
        "id": "bML4ZiwteaHZ"
      },
      "source": [
        ""
      ]
    },
    {
      "cell_type": "code",
      "metadata": {
        "colab": {
          "base_uri": "https://localhost:8080/"
        },
        "id": "Gd1absaePU_v",
        "outputId": "82ad91d8-b243-4e94-9da7-554fa0218ceb"
      },
      "source": [
        "#Trained on bs = 4 \n",
        "\n",
        "vqa_model.fit(train_dataset,\n",
        "          epochs=100,\n",
        "          batch_size=bs, \n",
        "          steps_per_epoch=len(ds) // bs,\n",
        "          validation_data=val_dataset,\n",
        "          validation_steps=len(ds_val) // bs,\n",
        "          callbacks=callbacks)m\n",
        "\n",
        "#/content/drive/MyDrive/challenge3/multiplication/GAP_Jan27_14-26-37"
      ],
      "execution_count": null,
      "outputs": [
        {
          "output_type": "stream",
          "text": [
            "Epoch 1/100\n",
            "12501/12501 [==============================] - 951s 76ms/step - loss: 1.4660 - accuracy: 0.4668 - val_loss: 1.0299 - val_accuracy: 0.5853\n",
            "Epoch 2/100\n",
            "12501/12501 [==============================] - 917s 73ms/step - loss: 0.9754 - accuracy: 0.6056 - val_loss: 1.0086 - val_accuracy: 0.6088\n",
            "Epoch 3/100\n",
            "12501/12501 [==============================] - 991s 79ms/step - loss: 0.8679 - accuracy: 0.6463 - val_loss: 1.0165 - val_accuracy: 0.6098\n",
            "Epoch 4/100\n",
            "12501/12501 [==============================] - 1053s 84ms/step - loss: 0.7998 - accuracy: 0.6752 - val_loss: 1.0988 - val_accuracy: 0.6022\n",
            "Epoch 5/100\n",
            "12501/12501 [==============================] - 1041s 83ms/step - loss: 0.7498 - accuracy: 0.6964 - val_loss: 1.1547 - val_accuracy: 0.6043\n",
            "Epoch 6/100\n",
            "12501/12501 [==============================] - 1041s 83ms/step - loss: 0.7110 - accuracy: 0.7124 - val_loss: 1.2357 - val_accuracy: 0.6080\n",
            "Epoch 7/100\n",
            "12501/12501 [==============================] - 966s 77ms/step - loss: 0.6787 - accuracy: 0.7269 - val_loss: 1.2465 - val_accuracy: 0.6091\n",
            "Epoch 8/100\n",
            "12501/12501 [==============================] - 1049s 84ms/step - loss: 0.6628 - accuracy: 0.7373 - val_loss: 1.1982 - val_accuracy: 0.6123\n",
            "Epoch 9/100\n",
            "12501/12501 [==============================] - 1059s 85ms/step - loss: 0.6457 - accuracy: 0.7489 - val_loss: 1.2745 - val_accuracy: 0.6064\n",
            "Epoch 10/100\n",
            "12501/12501 [==============================] - 990s 79ms/step - loss: 0.6331 - accuracy: 0.7518 - val_loss: 1.3411 - val_accuracy: 0.6095\n",
            "Epoch 11/100\n",
            "12501/12501 [==============================] - 921s 74ms/step - loss: 0.6132 - accuracy: 0.7610 - val_loss: 1.3780 - val_accuracy: 0.6134\n",
            "Epoch 12/100\n",
            "12501/12501 [==============================] - 911s 73ms/step - loss: 0.6111 - accuracy: 0.7633 - val_loss: 1.4259 - val_accuracy: 0.6103\n"
          ],
          "name": "stdout"
        },
        {
          "output_type": "execute_result",
          "data": {
            "text/plain": [
              "<tensorflow.python.keras.callbacks.History at 0x7f0e2f252fd0>"
            ]
          },
          "metadata": {
            "tags": []
          },
          "execution_count": 60
        }
      ]
    },
    {
      "cell_type": "code",
      "metadata": {
        "colab": {
          "base_uri": "https://localhost:8080/"
        },
        "id": "vssSbxohCrrY",
        "outputId": "46e15928-7dfe-4b06-d2fa-0944fd74e8e7"
      },
      "source": [
        "vqa_model.load_weights('/content/drive/MyDrive/challenge3/multiplication/GAP_Jan27_14-26-37/ckpts/cp_02.ckpt') "
      ],
      "execution_count": null,
      "outputs": [
        {
          "output_type": "execute_result",
          "data": {
            "text/plain": [
              "<tensorflow.python.training.tracking.util.CheckpointLoadStatus at 0x7f0e0a22b630>"
            ]
          },
          "metadata": {
            "tags": []
          },
          "execution_count": 133
        }
      ]
    },
    {
      "cell_type": "code",
      "metadata": {
        "colab": {
          "base_uri": "https://localhost:8080/",
          "height": 535
        },
        "id": "EefU9avNjf8e",
        "outputId": "79f8620a-da53-4dac-ffa0-5d8f5ed6ac88"
      },
      "source": [
        "#Multiplication with mobile net and 256 embedding; Trained with higher batch size 128\n",
        "#It starts from the 2nd epoch of the first training \n",
        "vqa_model.fit(train_dataset,\n",
        "          epochs=100,\n",
        "          batch_size=bs, \n",
        "          steps_per_epoch=len(ds) // bs,\n",
        "          validation_data=val_dataset,\n",
        "          validation_steps=len(ds_val) // bs,\n",
        "          callbacks=callbacks)"
      ],
      "execution_count": null,
      "outputs": [
        {
          "output_type": "stream",
          "text": [
            "Epoch 1/100\n",
            "390/390 [==============================] - 693s 2s/step - loss: 0.7661 - accuracy: 0.6843 - val_loss: 0.9502 - val_accuracy: 0.6264\n",
            "Epoch 2/100\n",
            "390/390 [==============================] - 662s 2s/step - loss: 0.7189 - accuracy: 0.6992 - val_loss: 0.9484 - val_accuracy: 0.6305\n",
            "Epoch 3/100\n",
            "390/390 [==============================] - 669s 2s/step - loss: 0.6892 - accuracy: 0.7121 - val_loss: 0.9545 - val_accuracy: 0.6341\n",
            "Epoch 4/100\n",
            "390/390 [==============================] - 659s 2s/step - loss: 0.6626 - accuracy: 0.7219 - val_loss: 0.9576 - val_accuracy: 0.6325\n",
            "Epoch 5/100\n",
            "390/390 [==============================] - 664s 2s/step - loss: 0.6360 - accuracy: 0.7351 - val_loss: 0.9744 - val_accuracy: 0.6338\n",
            "Epoch 6/100\n",
            "228/390 [================>.............] - ETA: 3:53 - loss: 0.6324 - accuracy: 0.7366"
          ],
          "name": "stdout"
        },
        {
          "output_type": "error",
          "ename": "KeyboardInterrupt",
          "evalue": "ignored",
          "traceback": [
            "\u001b[0;31m---------------------------------------------------------------------------\u001b[0m",
            "\u001b[0;31mKeyboardInterrupt\u001b[0m                         Traceback (most recent call last)",
            "\u001b[0;32m<ipython-input-110-e73b707162a2>\u001b[0m in \u001b[0;36m<module>\u001b[0;34m()\u001b[0m\n\u001b[1;32m      7\u001b[0m           \u001b[0mvalidation_data\u001b[0m\u001b[0;34m=\u001b[0m\u001b[0mval_dataset\u001b[0m\u001b[0;34m,\u001b[0m\u001b[0;34m\u001b[0m\u001b[0;34m\u001b[0m\u001b[0m\n\u001b[1;32m      8\u001b[0m           \u001b[0mvalidation_steps\u001b[0m\u001b[0;34m=\u001b[0m\u001b[0mlen\u001b[0m\u001b[0;34m(\u001b[0m\u001b[0mds_val\u001b[0m\u001b[0;34m)\u001b[0m \u001b[0;34m//\u001b[0m \u001b[0mbs\u001b[0m\u001b[0;34m,\u001b[0m\u001b[0;34m\u001b[0m\u001b[0;34m\u001b[0m\u001b[0m\n\u001b[0;32m----> 9\u001b[0;31m           callbacks=callbacks)\n\u001b[0m",
            "\u001b[0;32m/usr/local/lib/python3.6/dist-packages/tensorflow/python/keras/engine/training.py\u001b[0m in \u001b[0;36mfit\u001b[0;34m(self, x, y, batch_size, epochs, verbose, callbacks, validation_split, validation_data, shuffle, class_weight, sample_weight, initial_epoch, steps_per_epoch, validation_steps, validation_batch_size, validation_freq, max_queue_size, workers, use_multiprocessing)\u001b[0m\n\u001b[1;32m   1098\u001b[0m                 _r=1):\n\u001b[1;32m   1099\u001b[0m               \u001b[0mcallbacks\u001b[0m\u001b[0;34m.\u001b[0m\u001b[0mon_train_batch_begin\u001b[0m\u001b[0;34m(\u001b[0m\u001b[0mstep\u001b[0m\u001b[0;34m)\u001b[0m\u001b[0;34m\u001b[0m\u001b[0;34m\u001b[0m\u001b[0m\n\u001b[0;32m-> 1100\u001b[0;31m               \u001b[0mtmp_logs\u001b[0m \u001b[0;34m=\u001b[0m \u001b[0mself\u001b[0m\u001b[0;34m.\u001b[0m\u001b[0mtrain_function\u001b[0m\u001b[0;34m(\u001b[0m\u001b[0miterator\u001b[0m\u001b[0;34m)\u001b[0m\u001b[0;34m\u001b[0m\u001b[0;34m\u001b[0m\u001b[0m\n\u001b[0m\u001b[1;32m   1101\u001b[0m               \u001b[0;32mif\u001b[0m \u001b[0mdata_handler\u001b[0m\u001b[0;34m.\u001b[0m\u001b[0mshould_sync\u001b[0m\u001b[0;34m:\u001b[0m\u001b[0;34m\u001b[0m\u001b[0;34m\u001b[0m\u001b[0m\n\u001b[1;32m   1102\u001b[0m                 \u001b[0mcontext\u001b[0m\u001b[0;34m.\u001b[0m\u001b[0masync_wait\u001b[0m\u001b[0;34m(\u001b[0m\u001b[0;34m)\u001b[0m\u001b[0;34m\u001b[0m\u001b[0;34m\u001b[0m\u001b[0m\n",
            "\u001b[0;32m/usr/local/lib/python3.6/dist-packages/tensorflow/python/eager/def_function.py\u001b[0m in \u001b[0;36m__call__\u001b[0;34m(self, *args, **kwds)\u001b[0m\n\u001b[1;32m    826\u001b[0m     \u001b[0mtracing_count\u001b[0m \u001b[0;34m=\u001b[0m \u001b[0mself\u001b[0m\u001b[0;34m.\u001b[0m\u001b[0mexperimental_get_tracing_count\u001b[0m\u001b[0;34m(\u001b[0m\u001b[0;34m)\u001b[0m\u001b[0;34m\u001b[0m\u001b[0;34m\u001b[0m\u001b[0m\n\u001b[1;32m    827\u001b[0m     \u001b[0;32mwith\u001b[0m \u001b[0mtrace\u001b[0m\u001b[0;34m.\u001b[0m\u001b[0mTrace\u001b[0m\u001b[0;34m(\u001b[0m\u001b[0mself\u001b[0m\u001b[0;34m.\u001b[0m\u001b[0m_name\u001b[0m\u001b[0;34m)\u001b[0m \u001b[0;32mas\u001b[0m \u001b[0mtm\u001b[0m\u001b[0;34m:\u001b[0m\u001b[0;34m\u001b[0m\u001b[0;34m\u001b[0m\u001b[0m\n\u001b[0;32m--> 828\u001b[0;31m       \u001b[0mresult\u001b[0m \u001b[0;34m=\u001b[0m \u001b[0mself\u001b[0m\u001b[0;34m.\u001b[0m\u001b[0m_call\u001b[0m\u001b[0;34m(\u001b[0m\u001b[0;34m*\u001b[0m\u001b[0margs\u001b[0m\u001b[0;34m,\u001b[0m \u001b[0;34m**\u001b[0m\u001b[0mkwds\u001b[0m\u001b[0;34m)\u001b[0m\u001b[0;34m\u001b[0m\u001b[0;34m\u001b[0m\u001b[0m\n\u001b[0m\u001b[1;32m    829\u001b[0m       \u001b[0mcompiler\u001b[0m \u001b[0;34m=\u001b[0m \u001b[0;34m\"xla\"\u001b[0m \u001b[0;32mif\u001b[0m \u001b[0mself\u001b[0m\u001b[0;34m.\u001b[0m\u001b[0m_experimental_compile\u001b[0m \u001b[0;32melse\u001b[0m \u001b[0;34m\"nonXla\"\u001b[0m\u001b[0;34m\u001b[0m\u001b[0;34m\u001b[0m\u001b[0m\n\u001b[1;32m    830\u001b[0m       \u001b[0mnew_tracing_count\u001b[0m \u001b[0;34m=\u001b[0m \u001b[0mself\u001b[0m\u001b[0;34m.\u001b[0m\u001b[0mexperimental_get_tracing_count\u001b[0m\u001b[0;34m(\u001b[0m\u001b[0;34m)\u001b[0m\u001b[0;34m\u001b[0m\u001b[0;34m\u001b[0m\u001b[0m\n",
            "\u001b[0;32m/usr/local/lib/python3.6/dist-packages/tensorflow/python/eager/def_function.py\u001b[0m in \u001b[0;36m_call\u001b[0;34m(self, *args, **kwds)\u001b[0m\n\u001b[1;32m    853\u001b[0m       \u001b[0;31m# In this case we have created variables on the first call, so we run the\u001b[0m\u001b[0;34m\u001b[0m\u001b[0;34m\u001b[0m\u001b[0;34m\u001b[0m\u001b[0m\n\u001b[1;32m    854\u001b[0m       \u001b[0;31m# defunned version which is guaranteed to never create variables.\u001b[0m\u001b[0;34m\u001b[0m\u001b[0;34m\u001b[0m\u001b[0;34m\u001b[0m\u001b[0m\n\u001b[0;32m--> 855\u001b[0;31m       \u001b[0;32mreturn\u001b[0m \u001b[0mself\u001b[0m\u001b[0;34m.\u001b[0m\u001b[0m_stateless_fn\u001b[0m\u001b[0;34m(\u001b[0m\u001b[0;34m*\u001b[0m\u001b[0margs\u001b[0m\u001b[0;34m,\u001b[0m \u001b[0;34m**\u001b[0m\u001b[0mkwds\u001b[0m\u001b[0;34m)\u001b[0m  \u001b[0;31m# pylint: disable=not-callable\u001b[0m\u001b[0;34m\u001b[0m\u001b[0;34m\u001b[0m\u001b[0m\n\u001b[0m\u001b[1;32m    856\u001b[0m     \u001b[0;32melif\u001b[0m \u001b[0mself\u001b[0m\u001b[0;34m.\u001b[0m\u001b[0m_stateful_fn\u001b[0m \u001b[0;32mis\u001b[0m \u001b[0;32mnot\u001b[0m \u001b[0;32mNone\u001b[0m\u001b[0;34m:\u001b[0m\u001b[0;34m\u001b[0m\u001b[0;34m\u001b[0m\u001b[0m\n\u001b[1;32m    857\u001b[0m       \u001b[0;31m# Release the lock early so that multiple threads can perform the call\u001b[0m\u001b[0;34m\u001b[0m\u001b[0;34m\u001b[0m\u001b[0;34m\u001b[0m\u001b[0m\n",
            "\u001b[0;32m/usr/local/lib/python3.6/dist-packages/tensorflow/python/eager/function.py\u001b[0m in \u001b[0;36m__call__\u001b[0;34m(self, *args, **kwargs)\u001b[0m\n\u001b[1;32m   2941\u001b[0m        filtered_flat_args) = self._maybe_define_function(args, kwargs)\n\u001b[1;32m   2942\u001b[0m     return graph_function._call_flat(\n\u001b[0;32m-> 2943\u001b[0;31m         filtered_flat_args, captured_inputs=graph_function.captured_inputs)  # pylint: disable=protected-access\n\u001b[0m\u001b[1;32m   2944\u001b[0m \u001b[0;34m\u001b[0m\u001b[0m\n\u001b[1;32m   2945\u001b[0m   \u001b[0;34m@\u001b[0m\u001b[0mproperty\u001b[0m\u001b[0;34m\u001b[0m\u001b[0;34m\u001b[0m\u001b[0m\n",
            "\u001b[0;32m/usr/local/lib/python3.6/dist-packages/tensorflow/python/eager/function.py\u001b[0m in \u001b[0;36m_call_flat\u001b[0;34m(self, args, captured_inputs, cancellation_manager)\u001b[0m\n\u001b[1;32m   1917\u001b[0m       \u001b[0;31m# No tape is watching; skip to running the function.\u001b[0m\u001b[0;34m\u001b[0m\u001b[0;34m\u001b[0m\u001b[0;34m\u001b[0m\u001b[0m\n\u001b[1;32m   1918\u001b[0m       return self._build_call_outputs(self._inference_function.call(\n\u001b[0;32m-> 1919\u001b[0;31m           ctx, args, cancellation_manager=cancellation_manager))\n\u001b[0m\u001b[1;32m   1920\u001b[0m     forward_backward = self._select_forward_and_backward_functions(\n\u001b[1;32m   1921\u001b[0m         \u001b[0margs\u001b[0m\u001b[0;34m,\u001b[0m\u001b[0;34m\u001b[0m\u001b[0;34m\u001b[0m\u001b[0m\n",
            "\u001b[0;32m/usr/local/lib/python3.6/dist-packages/tensorflow/python/eager/function.py\u001b[0m in \u001b[0;36mcall\u001b[0;34m(self, ctx, args, cancellation_manager)\u001b[0m\n\u001b[1;32m    558\u001b[0m               \u001b[0minputs\u001b[0m\u001b[0;34m=\u001b[0m\u001b[0margs\u001b[0m\u001b[0;34m,\u001b[0m\u001b[0;34m\u001b[0m\u001b[0;34m\u001b[0m\u001b[0m\n\u001b[1;32m    559\u001b[0m               \u001b[0mattrs\u001b[0m\u001b[0;34m=\u001b[0m\u001b[0mattrs\u001b[0m\u001b[0;34m,\u001b[0m\u001b[0;34m\u001b[0m\u001b[0;34m\u001b[0m\u001b[0m\n\u001b[0;32m--> 560\u001b[0;31m               ctx=ctx)\n\u001b[0m\u001b[1;32m    561\u001b[0m         \u001b[0;32melse\u001b[0m\u001b[0;34m:\u001b[0m\u001b[0;34m\u001b[0m\u001b[0;34m\u001b[0m\u001b[0m\n\u001b[1;32m    562\u001b[0m           outputs = execute.execute_with_cancellation(\n",
            "\u001b[0;32m/usr/local/lib/python3.6/dist-packages/tensorflow/python/eager/execute.py\u001b[0m in \u001b[0;36mquick_execute\u001b[0;34m(op_name, num_outputs, inputs, attrs, ctx, name)\u001b[0m\n\u001b[1;32m     58\u001b[0m     \u001b[0mctx\u001b[0m\u001b[0;34m.\u001b[0m\u001b[0mensure_initialized\u001b[0m\u001b[0;34m(\u001b[0m\u001b[0;34m)\u001b[0m\u001b[0;34m\u001b[0m\u001b[0;34m\u001b[0m\u001b[0m\n\u001b[1;32m     59\u001b[0m     tensors = pywrap_tfe.TFE_Py_Execute(ctx._handle, device_name, op_name,\n\u001b[0;32m---> 60\u001b[0;31m                                         inputs, attrs, num_outputs)\n\u001b[0m\u001b[1;32m     61\u001b[0m   \u001b[0;32mexcept\u001b[0m \u001b[0mcore\u001b[0m\u001b[0;34m.\u001b[0m\u001b[0m_NotOkStatusException\u001b[0m \u001b[0;32mas\u001b[0m \u001b[0me\u001b[0m\u001b[0;34m:\u001b[0m\u001b[0;34m\u001b[0m\u001b[0;34m\u001b[0m\u001b[0m\n\u001b[1;32m     62\u001b[0m     \u001b[0;32mif\u001b[0m \u001b[0mname\u001b[0m \u001b[0;32mis\u001b[0m \u001b[0;32mnot\u001b[0m \u001b[0;32mNone\u001b[0m\u001b[0;34m:\u001b[0m\u001b[0;34m\u001b[0m\u001b[0;34m\u001b[0m\u001b[0m\n",
            "\u001b[0;31mKeyboardInterrupt\u001b[0m: "
          ]
        }
      ]
    },
    {
      "cell_type": "code",
      "metadata": {
        "colab": {
          "base_uri": "https://localhost:8080/"
        },
        "id": "kZ2fNdzjocfD",
        "outputId": "07f95d30-690c-4ed1-b1c3-e8af014e01ba"
      },
      "source": [
        "#Multiplication con mobile net e embedding a 256;  with higher batch size 128\n",
        "#Started from zero \n",
        "\n",
        "vqa_model.fit(train_dataset,\n",
        "          epochs=100,\n",
        "          batch_size=bs, \n",
        "          steps_per_epoch=len(ds) // bs,\n",
        "          validation_data=val_dataset,\n",
        "          validation_steps=len(ds_val) // bs,\n",
        "          callbacks=callbacks)"
      ],
      "execution_count": null,
      "outputs": [
        {
          "output_type": "stream",
          "text": [
            "Epoch 1/100\n",
            "390/390 [==============================] - 804s 2s/step - loss: 2.0000 - accuracy: 0.4050 - val_loss: 1.0416 - val_accuracy: 0.5825\n",
            "Epoch 2/100\n",
            "390/390 [==============================] - 766s 2s/step - loss: 0.9958 - accuracy: 0.5971 - val_loss: 0.9515 - val_accuracy: 0.6075\n",
            "Epoch 3/100\n",
            "390/390 [==============================] - 765s 2s/step - loss: 0.8678 - accuracy: 0.6424 - val_loss: 0.9317 - val_accuracy: 0.6141\n",
            "Epoch 4/100\n",
            "390/390 [==============================] - 764s 2s/step - loss: 0.7941 - accuracy: 0.6719 - val_loss: 0.9308 - val_accuracy: 0.6255\n",
            "Epoch 5/100\n",
            "390/390 [==============================] - 764s 2s/step - loss: 0.7409 - accuracy: 0.6938 - val_loss: 0.9330 - val_accuracy: 0.6265\n",
            "Epoch 6/100\n",
            "390/390 [==============================] - 763s 2s/step - loss: 0.7001 - accuracy: 0.7092 - val_loss: 0.9434 - val_accuracy: 0.6299\n",
            "Epoch 7/100\n",
            "390/390 [==============================] - 765s 2s/step - loss: 0.6651 - accuracy: 0.7246 - val_loss: 0.9766 - val_accuracy: 0.6212\n",
            "Epoch 8/100\n",
            "390/390 [==============================] - 765s 2s/step - loss: 0.6284 - accuracy: 0.7401 - val_loss: 1.0016 - val_accuracy: 0.6219\n",
            "Epoch 9/100\n",
            "139/390 [=========>....................] - ETA: 6:59 - loss: 0.6023 - accuracy: 0.7513"
          ],
          "name": "stdout"
        }
      ]
    },
    {
      "cell_type": "markdown",
      "metadata": {
        "id": "8NYFB5NEK4W3"
      },
      "source": [
        "## Take prediciton and create dictionary"
      ]
    },
    {
      "cell_type": "markdown",
      "metadata": {
        "id": "hs-99Uihhago"
      },
      "source": [
        "Define the function that helps us to retrieve the questions and image_names by the annotations loaded from the json file"
      ]
    },
    {
      "cell_type": "code",
      "metadata": {
        "id": "PDYi06m_MHpW"
      },
      "source": [
        "# Given test_annotations_map, it returns a the questions and the associated image ids\r\n",
        "\r\n",
        "def get_lists_from_data_test(test_annotations_map):\r\n",
        "  ids = []\r\n",
        "  questions = []\r\n",
        "  image_names = []\r\n",
        "\r\n",
        "\r\n",
        "  for value in test_annotations_map.values():\r\n",
        "    questions.append(value['question'])\r\n",
        "    image_names.append(value['image_id'])\r\n",
        "\r\n",
        "\r\n",
        "  return questions, image_names"
      ],
      "execution_count": null,
      "outputs": []
    },
    {
      "cell_type": "markdown",
      "metadata": {
        "id": "OCowOH_Yhm-D"
      },
      "source": [
        "Define our custom dataset for the test"
      ]
    },
    {
      "cell_type": "code",
      "metadata": {
        "id": "hRn-KOhqL2UY"
      },
      "source": [
        "from PIL import Image\r\n",
        "from sklearn.model_selection import train_test_split\r\n",
        "\r\n",
        "'''\r\n",
        "It creates the Dataset.\r\n",
        "\r\n",
        "Args:\r\n",
        "data => the data loaded from the json file\r\n",
        "data_test => the data loaded from the test json file\r\n",
        "labels_dict => dictionary of string answers to integers\r\n",
        "all the others are trivial\r\n",
        "\r\n",
        "Returns:\r\n",
        "(Input Map)\r\n",
        "The images in the input map are numpy tensors of (h, w, 3)\r\n",
        "The tokenized questions on the input map are vectors of (21,) integers\r\n",
        "\r\n",
        "The input map contains the vector of the images and the vector of the \r\n",
        "tokenized questions. \r\n",
        "'''\r\n",
        "\r\n",
        "class CustomDatasetTest(tf.keras.utils.Sequence):\r\n",
        "\r\n",
        "  def __init__(self, \r\n",
        "               data = None,data_test = None,\r\n",
        "               labels_dict = None, \r\n",
        "               images_path = None,\r\n",
        "               preprocessing_function=None, \r\n",
        "               out_shape=[200, 350]):\r\n",
        "    \r\n",
        "    self.images_path = images_path\r\n",
        "    self.preprocessing_function = preprocessing_function\r\n",
        "    self.out_shape = out_shape\r\n",
        "    self.data = data\r\n",
        "   \r\n",
        "    #Now let's get the tokenizer for the whole data (this is the reason because I take also the data_training)\r\n",
        "    #Get the questions, images and answers from data (training)\r\n",
        "    questions, image_names, answers = get_lists_from_data(data, labels_dict)\r\n",
        "\r\n",
        "    #We need the tokenizer for the questions. We get also the max length of every sentence\r\n",
        "    self.tokenizer, self.max_length_sentence = get_tokenizer_whole_data(questions)\r\n",
        "\r\n",
        "    #Get questions and images_ids from data test\r\n",
        "    questions_test, image_names_test = get_lists_from_data_test(data_test)\r\n",
        "\r\n",
        "    self.questions = questions_test\r\n",
        "    self.image_names = image_names_test\r\n",
        "    #Tokenize the subset of the questions (in the test set)\r\n",
        "\r\n",
        "    self.tokenized_questions = tokenize_input(questions=self.questions, tokenizer=self.tokenizer, max_length_sentence=self.max_length_sentence)\r\n",
        "\r\n",
        "\r\n",
        "\r\n",
        "  def __len__(self):\r\n",
        "    return len(self.questions)\r\n",
        "\r\n",
        "  def __getitem__(self, index):\r\n",
        "  \r\n",
        "    #Reading image\r\n",
        "    #We need to convert to RGB since the png has a 4-th transparency channel\r\n",
        "    image = Image.open(os.path.join(self.images_path, self.image_names[index] + '.png')).convert('RGB')\r\n",
        "    image = image.resize(self.out_shape)\r\n",
        "    image_array = np.array(image)\r\n",
        "\r\n",
        "    if self.preprocessing_function is not None:\r\n",
        "        image_array = self.preprocessing_function(image_array)\r\n",
        "\r\n",
        "    #Reading the question\r\n",
        "    question = self.tokenized_questions[index]\r\n",
        "\r\n",
        "    return {'image':image_array, 'text':question}"
      ],
      "execution_count": null,
      "outputs": []
    },
    {
      "cell_type": "markdown",
      "metadata": {
        "id": "Vj-1nSKChrpE"
      },
      "source": [
        "Let's load all the data we need"
      ]
    },
    {
      "cell_type": "code",
      "metadata": {
        "id": "A6jU2q-KhueM"
      },
      "source": [
        "# Note: data is not loaded here because it was loaded before the training\r\n",
        "\r\n",
        "test_json_path = '/content/drive/MyDrive/challenge3/VQA_Dataset/test_questions.json'\r\n",
        "images_path = '/content/VQA_Dataset/Images'\r\n",
        "\r\n",
        "data_test = load_json(test_json_path)"
      ],
      "execution_count": null,
      "outputs": []
    },
    {
      "cell_type": "markdown",
      "metadata": {
        "id": "uYLhOhCbhLQT"
      },
      "source": [
        ""
      ]
    },
    {
      "cell_type": "code",
      "metadata": {
        "id": "Nj1YiBm6goz1"
      },
      "source": [
        "test = CustomDatasetTest(data=data,data_test=data_test,labels_dict = labels_dict,images_path = images_path,out_shape=[224, 224],preprocessing_function=preprocess_input)"
      ],
      "execution_count": null,
      "outputs": []
    },
    {
      "cell_type": "code",
      "metadata": {
        "id": "bW94HybjlOlT"
      },
      "source": [
        "test_dataset = tf.data.Dataset.from_generator(lambda: test,\r\n",
        "                                               output_types=({'image':tf.float32, 'text':tf.float32}),\r\n",
        "                                               output_shapes=({'image':[img_height, img_width, 3], 'text':[21,]}))"
      ],
      "execution_count": null,
      "outputs": []
    },
    {
      "cell_type": "code",
      "metadata": {
        "id": "DYZlak0Pox5o"
      },
      "source": [
        "test_dataset = test_dataset.batch(1)"
      ],
      "execution_count": null,
      "outputs": []
    },
    {
      "cell_type": "markdown",
      "metadata": {
        "id": "xIkstLAOhPta"
      },
      "source": [
        "Let's load the weigths of our model and compute the predictions"
      ]
    },
    {
      "cell_type": "code",
      "metadata": {
        "id": "4evPmrZKbKox"
      },
      "source": [
        "#vqa_model.load_weights(\"/content/drive/My Drive/challenge3/checkpoints/mod\")"
      ],
      "execution_count": null,
      "outputs": []
    },
    {
      "cell_type": "code",
      "metadata": {
        "id": "uM4OaeVg_Z8r"
      },
      "source": [
        "# Compute predictions\r\n",
        "predictions = vqa_model.predict(test_dataset)"
      ],
      "execution_count": null,
      "outputs": []
    },
    {
      "cell_type": "markdown",
      "metadata": {
        "id": "oVxgGA5IWAJK"
      },
      "source": [
        "Create a new function -> takes in input the keys of the label dict and the predictions and create the dictionary {'question_id' : answer_id}"
      ]
    },
    {
      "cell_type": "code",
      "metadata": {
        "colab": {
          "base_uri": "https://localhost:8080/"
        },
        "id": "Q_j9H3B-qNad",
        "outputId": "ab4d4dc4-ced8-412c-82ee-9545db19bc57"
      },
      "source": [
        "!pwd"
      ],
      "execution_count": null,
      "outputs": [
        {
          "output_type": "stream",
          "text": [
            "/content/drive/MyDrive/challenge3\n"
          ],
          "name": "stdout"
        }
      ]
    },
    {
      "cell_type": "code",
      "metadata": {
        "id": "73mei18MWFHw"
      },
      "source": [
        "import numpy as np\r\n",
        "def create_dictionary(question_ids, predictions):\r\n",
        "  res_dict = {}\r\n",
        "\r\n",
        "  for question_id,prediction in zip(question_ids,predictions):\r\n",
        "      index = np.argmax(prediction)\r\n",
        "      res_dict[question_id] = index\r\n",
        "    \r\n",
        "  return res_dict\r\n",
        "  "
      ],
      "execution_count": null,
      "outputs": []
    },
    {
      "cell_type": "code",
      "metadata": {
        "id": "pJ5oHE82fOeF"
      },
      "source": [
        "question_ids = list(data_test.keys())\r\n",
        "res_dict = create_dictionary(question_ids,predictions)"
      ],
      "execution_count": null,
      "outputs": []
    },
    {
      "cell_type": "markdown",
      "metadata": {
        "id": "tUetU3GQF2YC"
      },
      "source": [
        "## Write CSV"
      ]
    },
    {
      "cell_type": "code",
      "metadata": {
        "id": "eElOFSghF5QR"
      },
      "source": [
        "import os\n",
        "from datetime import datetime\n",
        "\n",
        "#Kindly provided by MatteoMatteucci\n",
        "def create_csv(results, results_dir='./'):\n",
        "\n",
        "    csv_fname = 'results_'\n",
        "    csv_fname += datetime.now().strftime('%b%d_%H-%M-%S') + '.csv'\n",
        "\n",
        "    with open(os.path.join(results_dir, csv_fname), 'w') as f:\n",
        "\n",
        "        f.write('Id,Category\\n')\n",
        "\n",
        "        for key, value in results.items():\n",
        "            f.write(key + ',' + str(value) + '\\n')"
      ],
      "execution_count": null,
      "outputs": []
    },
    {
      "cell_type": "code",
      "metadata": {
        "id": "Mje7Sm99GPar"
      },
      "source": [
        "create_csv(res_dict)"
      ],
      "execution_count": null,
      "outputs": []
    }
  ]
}